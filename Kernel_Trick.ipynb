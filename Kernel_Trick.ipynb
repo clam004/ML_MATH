{
 "cells": [
  {
   "cell_type": "code",
   "execution_count": 40,
   "id": "fixed-tonight",
   "metadata": {},
   "outputs": [],
   "source": [
    "import numpy as np\n",
    "import math\n",
    "import matplotlib.pyplot as plt\n",
    "\n",
    "%matplotlib inline "
   ]
  },
  {
   "cell_type": "markdown",
   "id": "lightweight-occupation",
   "metadata": {},
   "source": [
    "Not all data are linearly separable in the n-dimensional space that the data naturally exist in, but this is why we transform the data into a space that IS linearly separable\n",
    "\n",
    "<img src = \"transform.png\" width=500 height=400/>\n",
    "\n",
    "The simplest example of such a transofrmation is introducing some 2nd order polynomial terms into the features to extend to 2D input space"
   ]
  },
  {
   "cell_type": "code",
   "execution_count": 32,
   "id": "imported-activation",
   "metadata": {},
   "outputs": [],
   "source": [
    "# Here are 2 points in 2D space \n",
    "\n",
    "a = np.array([1,2])\n",
    "b = np.array([3,2])"
   ]
  },
  {
   "cell_type": "code",
   "execution_count": 33,
   "id": "behavioral-whale",
   "metadata": {},
   "outputs": [
    {
     "name": "stdout",
     "output_type": "stream",
     "text": [
      "7\n",
      "7\n"
     ]
    }
   ],
   "source": [
    "# First, some definitions, The Dot Product and Inner Product are the same in Here because 2D is finite\n",
    "# The dot product is the name given to the inner product on a finite dimensional Euclidean space\n",
    "\n",
    "print(np.dot(a,b))\n",
    "print(np.inner(a,b))"
   ]
  },
  {
   "cell_type": "code",
   "execution_count": 34,
   "id": "ready-captain",
   "metadata": {},
   "outputs": [
    {
     "name": "stdout",
     "output_type": "stream",
     "text": [
      "[1.         1.         4.         1.41421356 2.82842712 2.82842712]\n"
     ]
    }
   ],
   "source": [
    "# The Kernel is defined as K(x,x') = z(x) • z(x')\n",
    "\n",
    "# Z space is the 2+ dimensional space that will allow us to linearly separate points in x space that\n",
    "# and not linearly separable in x space \n",
    "\n",
    "def polynomial_z_space(x):\n",
    "    ''' x should be a 2-dimensional vector '''\n",
    "    return np.array([1, x[0]**2, x[1]**2, math.sqrt(2)*x[0], math.sqrt(2)*x[1], math.sqrt(2)*x[0]*x[1]])\n",
    "\n",
    "z = polynomial_z_space(a)\n",
    "\n",
    "print(z)"
   ]
  },
  {
   "cell_type": "code",
   "execution_count": 35,
   "id": "understood-garden",
   "metadata": {},
   "outputs": [
    {
     "name": "stdout",
     "output_type": "stream",
     "text": [
      "64\n",
      "64.0\n"
     ]
    }
   ],
   "source": [
    "# z(x) • z(x') where z is polynomial_z_space is the polynomial kernel aka K(x,x')\n",
    "\n",
    "def polynomial_kernel(x,x_):\n",
    "    ''' x and x_ should be a 2-dimensional vector '''\n",
    "    return (1 + np.inner(x, x_))**2\n",
    "\n",
    "print(polynomial_kernel(a,b))\n",
    "print(np.inner(polynomial_z_space(a),polynomial_z_space(b)))\n"
   ]
  },
  {
   "cell_type": "code",
   "execution_count": 36,
   "id": "selected-province",
   "metadata": {},
   "outputs": [],
   "source": [
    "# https://github.com/SSaishruthi/SVM-using-Numpy\n",
    "# https://medium.com/@saishruthi.tn/support-vector-machine-using-numpy-846f83f4183d\n",
    "\n",
    "# https://github.com/ElefHead/kernel-svm\n",
    "# https://courses.csail.mit.edu/6.867/wiki/images/a/a7/Qp-cvxopt.pdf"
   ]
  },
  {
   "cell_type": "code",
   "execution_count": 42,
   "id": "visible-northwest",
   "metadata": {},
   "outputs": [
    {
     "data": {
      "image/png": "[encoded data removed]",
      "text/plain": [
       "<Figure size 432x288 with 1 Axes>"
      ]
     },
     "metadata": {
      "needs_background": "light"
     },
     "output_type": "display_data"
    }
   ],
   "source": [
    "# in the code # https://github.com/ElefHead/kernel-svm # this is the problem to be solved\n",
    "# to separate the red and blue dots\n",
    "\n",
    "def get_data(lower,upper,num,num_dims):\n",
    "\treturn np.random.uniform(lower,upper,size=(num,num_dims))\n",
    "\n",
    "def get_labels(X):\n",
    "\tY = []\n",
    "\tfor x1,x2 in X:\n",
    "\t\tif x2 < np.sin(10*x1)/5 + 0.3 or ((x2 - 0.8)**2 + (x1 - 0.5)**2)<0.15**2:\n",
    "\t\t\tY.append(1)\n",
    "\t\telse:\n",
    "\t\t\tY.append(-1)\n",
    "\treturn np.asarray(Y)\n",
    "\n",
    "N = 100\n",
    "data = get_data(0,1,N,2) \n",
    "labels = get_labels(data).reshape(-1)\n",
    "predictions = np.ones_like(labels)*-1\n",
    "\n",
    "color = np.where(labels==1,\"orange\",\"green\")\n",
    "plt.scatter(data[:, 0], data[:, 1], c=labels, s=50, cmap=plt.cm.bwr)\n",
    "plt.title('SVM Boundaries (N = %d)' % (N))\n",
    "plt.show()"
   ]
  },
  {
   "cell_type": "code",
   "execution_count": null,
   "id": "occupational-occasions",
   "metadata": {},
   "outputs": [],
   "source": [
    "# Lets instead use the kernel in this simpler example\n",
    "\n",
    "# https://github.com/SSaishruthi/SVM-using-Numpy\n",
    "# https://medium.com/@saishruthi.tn/support-vector-machine-using-numpy-846f83f4183d"
   ]
  }
 ],
 "metadata": {
  "kernelspec": {
   "display_name": "Python 3",
   "language": "python",
   "name": "python3"
  },
  "language_info": {
   "codemirror_mode": {
    "name": "ipython",
    "version": 3
   },
   "file_extension": ".py",
   "mimetype": "text/x-python",
   "name": "python",
   "nbconvert_exporter": "python",
   "pygments_lexer": "ipython3",
   "version": "3.8.2"
  }
 },
 "nbformat": 4,
 "nbformat_minor": 5
}
